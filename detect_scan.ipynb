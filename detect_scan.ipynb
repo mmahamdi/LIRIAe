{
 "cells": [
  {
   "cell_type": "code",
   "execution_count": 6,
   "metadata": {},
   "outputs": [
    {
     "name": "stdout",
     "output_type": "stream",
     "text": [
      "Requirement already satisfied: pymupdf in /Library/Frameworks/Python.framework/Versions/3.10/lib/python3.10/site-packages (1.20.2)\n",
      "\n",
      "\u001b[1m[\u001b[0m\u001b[34;49mnotice\u001b[0m\u001b[1;39;49m]\u001b[0m\u001b[39;49m A new release of pip available: \u001b[0m\u001b[31;49m22.2.2\u001b[0m\u001b[39;49m -> \u001b[0m\u001b[32;49m22.3\u001b[0m\n",
      "\u001b[1m[\u001b[0m\u001b[34;49mnotice\u001b[0m\u001b[1;39;49m]\u001b[0m\u001b[39;49m To update, run: \u001b[0m\u001b[32;49mpip3 install --upgrade pip\u001b[0m\n"
     ]
    }
   ],
   "source": [
    "!python3 -m pip install --upgrade pymupdf\n",
    "import fitz, glob"
   ]
  },
  {
   "cell_type": "code",
   "execution_count": 7,
   "metadata": {},
   "outputs": [],
   "source": [
    "def check_nondigital_writer(fitzobj):\n",
    "    # argument must be return value of fitz.open(file) function\n",
    "    # checks the creator and producer of the file\n",
    "    # returns True if its not from a digital source\n",
    "    return False if fitzobj.metadata['creator'] in [\"Writer\", \"PScript5.dll\", \"Word\", \"Microsoft Word\"] else True\n",
    "\n",
    "\n",
    "def check_page_dimensions(pageobj, thr=3):\n",
    "    # argument must be page obj\n",
    "    # if the dimensions of an image somewhat match the page dimensions, it's a scanned page\n",
    "    # returns true if scanned page\n",
    "    # thr = threshold\n",
    "    check = False\n",
    "    c=0\n",
    "    surf = pageobj.rect\n",
    "    blocks = pageobj.get_bboxlog()\n",
    "    for elem in blocks:\n",
    "        if elem[0]== \"fill-image\":\n",
    "            for s, i in list(zip(surf, elem[1])):\n",
    "                if s-i >= -thr and s-i <= thr:\n",
    "                    c+=1\n",
    "        if c >=3 :# uses a good amount of the page\n",
    "            check=True\n",
    "            break\n",
    "    return check\n",
    "                \n",
    "\n",
    "def check_hidden_text(pageobj):\n",
    "    # argument must be page obj\n",
    "    # if theres the \"ignore-text\" id, it's probably an OCR\n",
    "    blocks = pageobj.get_bboxlog()\n",
    "    return False if [elem for elem in blocks if elem[0]== \"ignore-text\"] == [] else True\n"
   ]
  },
  {
   "cell_type": "code",
   "execution_count": 12,
   "metadata": {},
   "outputs": [
    {
     "name": "stdout",
     "output_type": "stream",
     "text": [
      "not sure for this one: ./corpus/test_OCR/174436_AAE.pdf\n",
      "not sure for this one: ./corpus/test_OCR/116857_AAE.pdf\n",
      "not sure for this one: ./corpus/test_OCR/209418_AAE.pdf\n",
      "not sure for this one: ./corpus/test_OCR/non_2022-010025-67004_10025_Avis_tacite_Reprise_extension_elevage_avicole_Ereac_22_2022APB52_Msigne.pdf\n",
      "not sure for this one: ./corpus/test_OCR/115404_AAE.pdf\n",
      "scanned file :  ./corpus/test_OCR/214439_AAE.pdf\n",
      "not sure for this one: ./corpus/test_OCR/non_test_word_impression.pdf\n",
      "not sure for this one: ./corpus/test_OCR/118069_AAE.PDF\n",
      "not sure for this one: ./corpus/test_OCR/239319_AAE.pdf\n",
      "scanned file :  ./corpus/test_OCR/103429_AAE.pdf\n",
      "not sure for this one: ./corpus/test_OCR/136388_AAE.pdf\n",
      "not sure for this one: ./corpus/test_OCR/132090_AAE.pdf\n",
      "not sure for this one: ./corpus/test_OCR/163290_AAE.pdf\n",
      "scanned file :  ./corpus/test_OCR/137419_AAE.pdf\n",
      "not sure for this one: ./corpus/test_OCR/141065_AAE.pdf\n",
      "not sure for this one: ./corpus/test_OCR/125787_AAE.pdf\n",
      "not sure for this one: ./corpus/test_OCR/285608_AAE.pdf\n",
      "not sure for this one: ./corpus/test_OCR/235165_AAE.pdf\n",
      "not sure for this one: ./corpus/test_OCR/147759_AAE.pdf\n",
      "scanned file :  ./corpus/test_OCR/83630_AAE.pdf\n",
      "not sure for this one: ./corpus/test_OCR/non_10034189_AAE.pdf\n",
      "not sure for this one: ./corpus/test_OCR/non_test_word.pdf\n",
      "not sure for this one: ./corpus/test_OCR/245505_AAE.pdf\n",
      "not sure for this one: ./corpus/test_OCR/204186_AAE.pdf\n",
      "scanned file :  ./corpus/test_OCR/oui_235670_AAE.pdf\n",
      "not sure for this one: ./corpus/test_OCR/112862_AAE.pdf\n",
      "not sure for this one: ./corpus/test_OCR/oui_284851_AAE.pdf\n",
      "not sure for this one: ./corpus/test_OCR/105952_AAE.pdf\n",
      "not sure for this one: ./corpus/test_OCR/156605_AAE.pdf\n",
      "scanned file :  ./corpus/test_OCR/124223_AAE.pdf\n"
     ]
    }
   ],
   "source": [
    "for file in glob.glob(\"./corpus/test_OCR/*\"):\n",
    "    checks = []\n",
    "    doc = fitz.open(file)\n",
    "    checks.append(check_nondigital_writer(doc))\n",
    "# on peut complexifier en mettant un seuil de pages scannées à ne pas dépasser par ex.\n",
    "    for page in doc:\n",
    "        checks.append(check_page_dimensions(page, 5))\n",
    "        checks.append(check_hidden_text(page))\n",
    "        #print(checks)\n",
    "    if checks.count(True) > checks.count(False):\n",
    "        print(\"scanned file : \", file)\n",
    "    else:\n",
    "        print(\"not sure for this one:\", file)\n",
    "        \n",
    "    \n",
    "\n",
    "    "
   ]
  },
  {
   "cell_type": "code",
   "execution_count": null,
   "metadata": {},
   "outputs": [],
   "source": []
  }
 ],
 "metadata": {
  "kernelspec": {
   "display_name": "Python 3.10.7 64-bit",
   "language": "python",
   "name": "python3"
  },
  "language_info": {
   "codemirror_mode": {
    "name": "ipython",
    "version": 3
   },
   "file_extension": ".py",
   "mimetype": "text/x-python",
   "name": "python",
   "nbconvert_exporter": "python",
   "pygments_lexer": "ipython3",
   "version": "3.10.7"
  },
  "orig_nbformat": 4,
  "vscode": {
   "interpreter": {
    "hash": "aee8b7b246df8f9039afb4144a1f6fd8d2ca17a180786b69acc140d282b71a49"
   }
  }
 },
 "nbformat": 4,
 "nbformat_minor": 2
}
